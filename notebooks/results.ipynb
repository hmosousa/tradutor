{
 "cells": [
  {
   "cell_type": "code",
   "execution_count": null,
   "metadata": {},
   "outputs": [],
   "source": [
    "import json\n",
    "import datasets\n",
    "\n",
    "import numpy as np\n",
    "\n",
    "from src.data.eval import FRMT\n",
    "from src.metrics import VIdScore\n",
    "from src.constants import RESULTS_PATH, CACHE_PATH"
   ]
  },
  {
   "cell_type": "markdown",
   "metadata": {},
   "source": [
    "## FRMT"
   ]
  },
  {
   "cell_type": "code",
   "execution_count": 4,
   "metadata": {},
   "outputs": [],
   "source": [
    "frmt = FRMT()"
   ]
  },
  {
   "cell_type": "markdown",
   "metadata": {},
   "source": [
    "### Deepl"
   ]
  },
  {
   "cell_type": "code",
   "execution_count": 5,
   "metadata": {},
   "outputs": [],
   "source": [
    "pred_deepl_frmt = json.load((CACHE_PATH / \"frmt_deepl.json\").open())\n",
    "pred_llama_frmt = json.load((CACHE_PATH / \"frmt_llama3_fft.json\").open())"
   ]
  },
  {
   "cell_type": "code",
   "execution_count": 23,
   "metadata": {},
   "outputs": [],
   "source": [
    "deepl_frmt = json.load((RESULTS_PATH / \"frmt\" / \"deepl.json\").open())\n",
    "google_br_frmt = json.load((RESULTS_PATH / \"frmt\" / \"google_br.json\").open())\n",
    "google_pt_frmt = json.load((RESULTS_PATH / \"frmt\" / \"google_pt.json\").open())\n",
    "llama_frmt = json.load((RESULTS_PATH / \"frmt\" / \"llama3_fft.json\").open())"
   ]
  },
  {
   "cell_type": "code",
   "execution_count": 24,
   "metadata": {},
   "outputs": [],
   "source": [
    "deepl_comet = np.array(deepl_frmt[\"comet\"][\"scores\"])\n",
    "google_br_comet = np.array(google_br_frmt[\"comet\"][\"scores\"])\n",
    "google_pt_comet = np.array(google_pt_frmt[\"comet\"][\"scores\"])\n",
    "llama_comet = np.array(llama_frmt[\"comet\"][\"scores\"])"
   ]
  },
  {
   "cell_type": "markdown",
   "metadata": {},
   "source": [
    "Check the examples where the difference is big."
   ]
  },
  {
   "cell_type": "code",
   "execution_count": 6,
   "metadata": {},
   "outputs": [
    {
     "name": "stdout",
     "output_type": "stream",
     "text": [
      "Min diff: -0.244423508644104\n",
      "Max diff: 0.6132988035678864\n",
      "Mean diff: 0.020507604523425177\n"
     ]
    }
   ],
   "source": [
    "diff = deepl_comet - llama_comet\n",
    "print(f\"Min diff: {diff.min()}\")\n",
    "print(f\"Max diff: {diff.max()}\")\n",
    "print(f\"Mean diff: {diff.mean()}\")"
   ]
  },
  {
   "cell_type": "markdown",
   "metadata": {},
   "source": [
    "#### Where deepl is better"
   ]
  },
  {
   "cell_type": "code",
   "execution_count": 7,
   "metadata": {},
   "outputs": [
    {
     "name": "stdout",
     "output_type": "stream",
     "text": [
      "Top 10 differences:\n",
      "[0.2358793  0.23833495 0.23924768 0.24147129 0.24796951 0.26088756\n",
      " 0.26499724 0.2705037  0.27102154 0.6132988 ]\n"
     ]
    }
   ],
   "source": [
    "top_10 = np.argsort(diff)[-10:]\n",
    "print(f\"Top 10 differences:\\n{diff[top_10]}\")"
   ]
  },
  {
   "cell_type": "markdown",
   "metadata": {},
   "source": [
    "Check the translations for this cases."
   ]
  },
  {
   "cell_type": "code",
   "execution_count": 8,
   "metadata": {},
   "outputs": [
    {
     "name": "stdout",
     "output_type": "stream",
     "text": [
      "Sample 1307\n",
      "Eng: In China, the one child policy was largely responsible for an unbalanced sex ratio.\n",
      "Pt: Na China, a política de filho único é responsável por uma relação sexual desequilibrada.\n",
      "Deepl: Na China, a política do filho único foi em grande parte responsável por um rácio sexual desequilibrado.\n",
      "Llama: Na China, a política de uma criança foi em grande parte responsável por uma relação de sexos desequilibrada.\n",
      "Comet diff: 0.2358793020248413\n",
      "\n",
      "Sample 462\n",
      "Eng: Ltda.\n",
      "Pt: Ltda.\n",
      "Deepl: Ltda.\n",
      "Llama: Lda.\n",
      "Comet diff: 0.23833495378494263\n",
      "\n",
      "Sample 2235\n",
      "Eng: No east–west highway existed at this point yet, leading to a spur end.\n",
      "Pt: Neste momento, ainda não existiam estradas este-oeste, levando a um final não refletido.\n",
      "Deepl: Ainda não existia uma autoestrada este-oeste neste ponto, o que levou a um ramal.\n",
      "Llama: Ainda não existia nesta altura uma autoestrada nascente-poente, a dar num extremo de espigão.\n",
      "Comet diff: 0.23924767971038818\n",
      "\n",
      "Sample 238\n",
      "Eng: He had traveled through Latin America, met Castro and Che Guevara, and been imprisoned for several months in 1964.\n",
      "Pt: Viajou pela América Latina, conheceu Castro e Che Guevara, e esteve preso durante vários meses em 1964.\n",
      "Deepl: Viajou pela América Latina, conheceu Castro e Che Guevara e esteve preso durante vários meses em 1964.\n",
      "Llama: Tinha viajado pela América Latina, conhecido Castro e Che Guevara, e estado preso vários meses em 1964.\n",
      "Comet diff: 0.2414712905883789\n",
      "\n",
      "Sample 1150\n",
      "Eng: Double deck high speed and sleeper trains are becoming more common in mainland Europe.\n",
      "Pt: Os comboios de dois pisos de alta-velocidade e os comboios com carruagens-cama são cada vez mais comuns no continente europeu.\n",
      "Deepl: Os comboios de dois andares de alta velocidade e os comboios-cama estão a tornar-se mais comuns na Europa continental.\n",
      "Llama: Duplo deck de alta velocidade e comboios dormitório estão a ficar mais comuns na Europa continental.\n",
      "Comet diff: 0.24796950817108154\n",
      "\n",
      "Sample 1147\n",
      "Eng: Domestic freezers are generally upright units resembling refrigerators or chests (upright units laid on their backs).\n",
      "Pt: Geralmente, os congeladores domésticos são unidades verticais semelhantes a frigoríficos ou arcas (unidades verticais colocadas na horizontal).\n",
      "Deepl: Os congeladores domésticos são geralmente unidades verticais semelhantes a frigoríficos ou arcas (unidades verticais deitadas de costas).\n",
      "Llama: As arcas domésticas são geralmente unidades erguidas que se assemelham a frigoríficos ou a arcas (unidades erguidas deitadas de costas).\n",
      "Comet diff: 0.2608875632286072\n",
      "\n",
      "Sample 2293\n",
      "Eng: Random people organized a charity and paid for the grave to remain.\n",
      "Pt: Um grupo de pessoas aleatórias organizou um peditório e pagou pela sepultura para que esta se mantivesse.\n",
      "Deepl: Pessoas aleatórias organizaram uma ação de caridade e pagaram para que a sepultura permanecesse.\n",
      "Llama: Pessoas aleatórias organizaram uma caridade e pagaram para a campa ficar.\n",
      "Comet diff: 0.2649972438812256\n",
      "\n",
      "Sample 425\n",
      "Eng: It was taken by the Moorish Almoravids in 1111.\n",
      "Pt: Em 1111, foi ocupada por almorávidas mouros.\n",
      "Deepl: Foi tomada pelos mouros almorávidas em 1111.\n",
      "Llama: Foi tomada pelos mouriscos Almorávidas em 1111.\n",
      "Comet diff: 0.2705036997795105\n",
      "\n",
      "Sample 953\n",
      "Eng: Vincent it stretches a further 50 km to the north.\n",
      "Pt: Vincente, estende-se 50 km a norte.\n",
      "Deepl: Vincent estende-se por mais 50 km para norte.\n",
      "Llama: Vincent estica mais 50 km para norte.\n",
      "Comet diff: 0.2710215449333191\n",
      "\n",
      "Sample 1115\n",
      "Eng: Certainty in fitting sleeve length must be achieved, as once working button holes are cut, the sleeve length essentially cannot be altered further.\n",
      "Pt: O ajuste do comprimento da manga deve ser rigoroso, porque quando as casas dos botões funcionais forem cortadas, o comprimento da manga já não pode ser alterado.\n",
      "Deepl: O comprimento da manga deve ser ajustado com segurança, uma vez que, uma vez cortados os buracos dos botões de trabalho, o comprimento da manga não pode ser alterado.\n",
      "Llama: A certeza no comprimento da manga de manga de manga de manga de manga de manga de manga de manga de manga de manga de manga de manga de manga de manga de manga de manga de manga de manga de manga de manga de manga de manga de manga de manga de manga de manga de manga de manga de manga de manga de manga de manga de manga de manga de manga de manga de manga de manga de manga de manga de manga de manga de manga de manga de manga de manga de manga de manga de manga de manga de manga de manga de manga de manga de manga de manga de manga\n",
      "Comet diff: 0.6132988035678864\n",
      "\n"
     ]
    }
   ],
   "source": [
    "for idx in top_10:\n",
    "    print(f\"Sample {idx}\")\n",
    "    print(f\"Eng: {frmt.source[idx]}\")\n",
    "    print(f\"Pt: {frmt.target[idx]}\")\n",
    "    print(f\"Deepl: {pred_deepl_frmt[str(idx)]}\")\n",
    "    print(f\"Llama: {pred_llama_frmt[str(idx)]}\")\n",
    "    print(f\"Comet diff: {diff[idx]}\")\n",
    "\n",
    "    print()"
   ]
  },
  {
   "cell_type": "markdown",
   "metadata": {},
   "source": [
    "#### Where LLama is better"
   ]
  },
  {
   "cell_type": "code",
   "execution_count": 9,
   "metadata": {},
   "outputs": [
    {
     "name": "stdout",
     "output_type": "stream",
     "text": [
      "Top 10 differences:\n",
      "[-0.12054902 -0.12777668 -0.12931502 -0.1294899  -0.13128668 -0.13474226\n",
      " -0.16152954 -0.1876933  -0.22183281 -0.24442351]\n"
     ]
    }
   ],
   "source": [
    "top_10 = np.argsort(-diff)[-10:]\n",
    "print(f\"Top 10 differences:\\n{diff[top_10]}\")"
   ]
  },
  {
   "cell_type": "markdown",
   "metadata": {},
   "source": [
    "Check the translations for this cases."
   ]
  },
  {
   "cell_type": "code",
   "execution_count": 10,
   "metadata": {},
   "outputs": [
    {
     "name": "stdout",
     "output_type": "stream",
     "text": [
      "Sample 1390\n",
      "Eng: Integral designs have the advantages that they have been well-tested for strength and stability, and also are off-the-shelf.\n",
      "Pt: Os designs integrais têm as vantagens de terem sido sujeitos a testes rigorosos de resistência e estabilidade e estão também prontos a ser utilizados.\n",
      "Deepl: As concepções integrais têm a vantagem de terem sido bem testadas quanto à sua resistência e estabilidade, e de serem também de prateleira.\n",
      "Llama: Os designs integrais têm as vantagens de terem sido bem testados para a resistência e estabilidade, e também são off-the-shelf.\n",
      "Comet diff: -0.1205490231513977\n",
      "\n",
      "Sample 1575\n",
      "Eng: Some unusual old patterns such as diamonds are now rare everywhere.\n",
      "Pt: Alguns padrões antigos invulgares, como losangos, não são usados com frequência.\n",
      "Deepl: Alguns padrões antigos invulgares, como os diamantes, são agora raros em todo o lado.\n",
      "Llama: Alguns padrões antigos invulgares como os losangos são agora raros em todo o lado.\n",
      "Comet diff: -0.12777668237686157\n",
      "\n",
      "Sample 1001\n",
      "Eng: A few London tailors state that all bespoke suits should use a floating canvas.\n",
      "Pt: Alguns alfaiates de Londres afirmam que todos os fatos feitos à medida usam lona flutuante.\n",
      "Deepl: Alguns alfaiates londrinos afirmam que todos os fatos por medida devem utilizar uma tela flutuante.\n",
      "Llama: Alguns alfaiates londrinos afirmam que todos os fatos à medida devem usar uma tela flutuante.\n",
      "Comet diff: -0.12931501865386963\n",
      "\n",
      "Sample 2070\n",
      "Eng: Her casting was announced in November 2011.\n",
      "Pt: As suas provas de casting foram anunciadas em novembro de 2011.\n",
      "Deepl: O seu elenco foi anunciado em novembro de 2011.\n",
      "Llama: O casting dela foi anunciado em novembro de 2011.\n",
      "Comet diff: -0.12948989868164062\n",
      "\n",
      "Sample 1824\n",
      "Eng: Usually double-breasted suits have one hole on each lapel (with a flower just on the left), while single-breasted suits have just one on the left.\n",
      "Pt: Normalmente, os fatos em jaquetão têm uma casa em cada lapela (com uma flor no lado esquerdo), enquanto os fatos direitos têm apenas uma à esquerda.\n",
      "Deepl: Normalmente, os fatos trespassados têm um buraco em cada lapela (com uma flor apenas à esquerda), enquanto os fatos trespassados têm apenas um à esquerda.\n",
      "Llama: Geralmente os fatos de colarinho duplo têm um buraco em cada lapela (com flor só na esquerda), enquanto os fatos de colarinho simples têm apenas um na esquerda.\n",
      "Comet diff: -0.13128668069839478\n",
      "\n",
      "Sample 1376\n",
      "Eng: In the developed world, cups are often distributed for promotional purposes.\n",
      "Pt: Nos países desenvolvidos, as taças costumam ser distribuídas por motivos promocionais.\n",
      "Deepl: No mundo desenvolvido, as chávenas são frequentemente distribuídas para fins promocionais.\n",
      "Llama: No mundo desenvolvido, muitas vezes distribuem-se taças para efeitos promocionais.\n",
      "Comet diff: -0.13474225997924805\n",
      "\n",
      "Sample 1624\n",
      "Eng: The adjective \"juicy\" has meant \"succulent\" since the 15th century (e.g., a juicy roast beef).\n",
      "Pt: O adjetivo em inglês \"juicy\" significa \"suculento\" desde o século XV (p. ex., um bife suculento).\n",
      "Deepl: O adjetivo \"suculento\" significa \"suculento\" desde o século XV (por exemplo, um rosbife suculento).\n",
      "Llama: O adjectivo \"juicy\" significa \"suculento\" desde o século XV (ex., um roast beef suculento).\n",
      "Comet diff: -0.161529541015625\n",
      "\n",
      "Sample 1319\n",
      "Eng: In XML and HTML, the string &#x1F6B6; produces 🚶.\n",
      "Pt: Nos formatos XML e HTML, a string produzida por &#x1F6B6; é 🚶.\n",
      "Deepl: Em XML e HTML, a cadeia &#x1F6B6; produz 🚶.\n",
      "Llama: Em XML e HTML, a string &#x1F6B6; produz o 🚶.\n",
      "Comet diff: -0.1876932978630066\n",
      "\n",
      "Sample 1\n",
      "Eng: 550 BC.\n",
      "Pt: 550 a.C.\n",
      "Deepl: 550 A.C.\n",
      "Llama: 550 a.C.\n",
      "Comet diff: -0.22183281183242798\n",
      "\n",
      "Sample 1701\n",
      "Eng: The refrigerator replaced the icebox, which had been a common household appliance for almost a century and a half.\n",
      "Pt: O congelador veio substituir aquele que foi um eletrodoméstico comum durante século e meio, a caixa de gelo.\n",
      "Deepl: O frigorífico substituiu o frigorífico, que tinha sido um eletrodoméstico comum durante quase um século e meio.\n",
      "Llama: O frigorífico substituiu a geladeira, que fora um comum electrodoméstico durante quase século e meio.\n",
      "Comet diff: -0.244423508644104\n",
      "\n"
     ]
    }
   ],
   "source": [
    "for idx in top_10:\n",
    "    print(f\"Sample {idx}\")\n",
    "    print(f\"Eng: {frmt.source[idx]}\")\n",
    "    print(f\"Pt: {frmt.target[idx]}\")\n",
    "    print(f\"Deepl: {pred_deepl_frmt[str(idx)]}\")\n",
    "    print(f\"Llama: {pred_llama_frmt[str(idx)]}\")\n",
    "    print(f\"Comet diff: {diff[idx]}\")\n",
    "\n",
    "    print()"
   ]
  },
  {
   "cell_type": "markdown",
   "metadata": {},
   "source": [
    "## Confidence intervals"
   ]
  },
  {
   "cell_type": "code",
   "execution_count": 19,
   "metadata": {},
   "outputs": [],
   "source": [
    "from src.metrics import compute_confidence_interval"
   ]
  },
  {
   "cell_type": "code",
   "execution_count": 20,
   "metadata": {},
   "outputs": [
    {
     "name": "stdout",
     "output_type": "stream",
     "text": [
      "Mean: 0.885\n",
      "95% Confidence Interval: (0.882, 0.887)\n"
     ]
    }
   ],
   "source": [
    "mean, confidence_interval = compute_confidence_interval(deepl_comet)\n",
    "print(f\"Mean: {mean}\")\n",
    "print(f\"95% Confidence Interval: {confidence_interval}\")"
   ]
  },
  {
   "cell_type": "code",
   "execution_count": 21,
   "metadata": {},
   "outputs": [
    {
     "name": "stdout",
     "output_type": "stream",
     "text": [
      "Mean: 0.874\n",
      "95% Confidence Interval: (0.872, 0.877)\n"
     ]
    }
   ],
   "source": [
    "mean, confidence_interval = compute_confidence_interval(google_br_comet)\n",
    "print(f\"Mean: {mean}\")\n",
    "print(f\"95% Confidence Interval: {confidence_interval}\")"
   ]
  },
  {
   "cell_type": "code",
   "execution_count": 25,
   "metadata": {},
   "outputs": [
    {
     "name": "stdout",
     "output_type": "stream",
     "text": [
      "Mean: 0.879\n",
      "95% Confidence Interval: (0.876, 0.881)\n"
     ]
    }
   ],
   "source": [
    "mean, confidence_interval = compute_confidence_interval(google_pt_comet)\n",
    "print(f\"Mean: {mean}\")\n",
    "print(f\"95% Confidence Interval: {confidence_interval}\")"
   ]
  },
  {
   "cell_type": "code",
   "execution_count": 22,
   "metadata": {},
   "outputs": [
    {
     "name": "stdout",
     "output_type": "stream",
     "text": [
      "Mean: 0.864\n",
      "95% Confidence Interval: (0.861, 0.867)\n"
     ]
    }
   ],
   "source": [
    "mean, confidence_interval = compute_confidence_interval(llama_comet)\n",
    "print(f\"Mean: {mean}\")\n",
    "print(f\"95% Confidence Interval: {confidence_interval}\")"
   ]
  }
 ],
 "metadata": {
  "kernelspec": {
   "display_name": "Python 3",
   "language": "python",
   "name": "python3"
  },
  "language_info": {
   "codemirror_mode": {
    "name": "ipython",
    "version": 3
   },
   "file_extension": ".py",
   "mimetype": "text/x-python",
   "name": "python",
   "nbconvert_exporter": "python",
   "pygments_lexer": "ipython3",
   "version": "3.11.9"
  }
 },
 "nbformat": 4,
 "nbformat_minor": 2
}
